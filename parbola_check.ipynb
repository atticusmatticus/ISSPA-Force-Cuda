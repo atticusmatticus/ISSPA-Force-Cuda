{
 "cells": [
  {
   "cell_type": "code",
   "execution_count": 1,
   "metadata": {},
   "outputs": [],
   "source": [
    "import numpy as np\n",
    "import matplotlib.pyplot as plt\n",
    "%matplotlib inline"
   ]
  },
  {
   "cell_type": "code",
   "execution_count": 2,
   "metadata": {},
   "outputs": [],
   "source": [
    "data = np.loadtxt(\"dump\")"
   ]
  },
  {
   "cell_type": "code",
   "execution_count": 3,
   "metadata": {},
   "outputs": [
    {
     "data": {
      "text/plain": [
       "(10000,)"
      ]
     },
     "execution_count": 3,
     "metadata": {},
     "output_type": "execute_result"
    }
   ],
   "source": [
    "data.shape"
   ]
  },
  {
   "cell_type": "code",
   "execution_count": 7,
   "metadata": {},
   "outputs": [
    {
     "data": {
      "text/plain": [
       "(array([0.0794799 , 0.20322709, 0.34407754, 0.3973995 , 0.5402621 ,\n",
       "        0.60565696, 0.66903966, 0.66702751, 0.70928265, 0.7112948 ,\n",
       "        0.76662891, 0.74550134, 0.74147704, 0.69620368, 0.56943827,\n",
       "        0.54730463, 0.45172753, 0.34810184, 0.19618456, 0.0714313 ]),\n",
       " array([-0.991296 , -0.8918998, -0.7925036, -0.6931074, -0.5937112,\n",
       "        -0.494315 , -0.3949188, -0.2955226, -0.1961264, -0.0967302,\n",
       "         0.002666 ,  0.1020622,  0.2014584,  0.3008546,  0.4002508,\n",
       "         0.499647 ,  0.5990432,  0.6984394,  0.7978356,  0.8972318,\n",
       "         0.996628 ]),\n",
       " <a list of 20 Patch objects>)"
      ]
     },
     "execution_count": 7,
     "metadata": {},
     "output_type": "execute_result"
    },
    {
     "data": {
      "image/png": "[encoded data removed]",
      "text/plain": [
       "<matplotlib.figure.Figure at 0x1064fe450>"
      ]
     },
     "metadata": {},
     "output_type": "display_data"
    }
   ],
   "source": [
    "plt.hist(data,normed=True,bins=20)"
   ]
  },
  {
   "cell_type": "code",
   "execution_count": null,
   "metadata": {},
   "outputs": [],
   "source": []
  }
 ],
 "metadata": {
  "kernelspec": {
   "display_name": "Python 2",
   "language": "python",
   "name": "python2"
  },
  "language_info": {
   "codemirror_mode": {
    "name": "ipython",
    "version": 2
   },
   "file_extension": ".py",
   "mimetype": "text/x-python",
   "name": "python",
   "nbconvert_exporter": "python",
   "pygments_lexer": "ipython2",
   "version": "2.7.14"
  }
 },
 "nbformat": 4,
 "nbformat_minor": 2
}
